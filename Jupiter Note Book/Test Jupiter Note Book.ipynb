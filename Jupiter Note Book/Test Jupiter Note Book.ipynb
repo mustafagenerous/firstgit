{
 "cells": [
  {
   "cell_type": "markdown",
   "id": "db8d8307",
   "metadata": {},
   "source": [
    "# Python\n",
    "# How to use Jupiter Note Book\n",
    "# Basics of python\n",
    "### 01-First Program"
   ]
  },
  {
   "cell_type": "code",
   "execution_count": 1,
   "id": "af85de30",
   "metadata": {
    "scrolled": false
   },
   "outputs": [
    {
     "name": "stdout",
     "output_type": "stream",
     "text": [
      "5\n",
      "hello world\n",
      "hi\n",
      "nonno\n",
      "Shahram\n",
      "my kid\n",
      "we\n",
      "66.0\n"
     ]
    }
   ],
   "source": [
    "print(2+3)\n",
    "print(\"hello world\")\n",
    "print('hi')\n",
    "print(\"nonno\")\n",
    "print(\"Shahram\")\n",
    "print(\"my kid\")\n",
    "print(\"we\")\n",
    "print(2*34-4/2)"
   ]
  },
  {
   "cell_type": "markdown",
   "id": "ca5c3902",
   "metadata": {},
   "source": [
    "### 02-Operators"
   ]
  },
  {
   "cell_type": "code",
   "execution_count": 2,
   "id": "9ec51a34",
   "metadata": {},
   "outputs": [
    {
     "name": "stdout",
     "output_type": "stream",
     "text": [
      "0.6666666666666666\n",
      "1\n",
      "3.5\n",
      "3\n",
      "8\n",
      "my age is\n",
      "1\n",
      "-8.5\n"
     ]
    }
   ],
   "source": [
    "print(2/3)\n",
    "print(9%2)\n",
    "print(7/2)\n",
    "print(7//2)\n",
    "print(2**3)\n",
    "print(\"my age is\")\n",
    "print(5%2)\n",
    "\n",
    "print(2*3/4+6-4**2)"
   ]
  },
  {
   "cell_type": "markdown",
   "id": "f0f7090b",
   "metadata": {},
   "source": [
    "*pamdas*"
   ]
  },
  {
   "cell_type": "markdown",
   "id": "2ac4748b",
   "metadata": {},
   "source": [
    "### 03-Strings"
   ]
  },
  {
   "cell_type": "code",
   "execution_count": 3,
   "id": "6dc9395a",
   "metadata": {
    "scrolled": true
   },
   "outputs": [
    {
     "name": "stdout",
     "output_type": "stream",
     "text": [
      "hello world\n",
      "hi\n",
      "nonno\n",
      "test for single\n",
      "test for double\n",
      "'test for triple'\n",
      "test triple\n"
     ]
    }
   ],
   "source": [
    "print(\"hello world\")\n",
    "print(\"hi\")\n",
    "print(\"nonno\")\n",
    "print('test for single')\n",
    "print(\"test for double\")\n",
    "print(\"'test for triple'\")\n",
    "print('''test triple''')"
   ]
  },
  {
   "cell_type": "markdown",
   "id": "13ad5d7d",
   "metadata": {},
   "source": [
    "### 04-Comments"
   ]
  },
  {
   "cell_type": "code",
   "execution_count": 4,
   "id": "685334d3",
   "metadata": {},
   "outputs": [
    {
     "name": "stdout",
     "output_type": "stream",
     "text": [
      "how are you?\n",
      "we are learning python\n",
      "5\n"
     ]
    }
   ],
   "source": [
    "print('how are you?') #for comment press ctl+/\n",
    "print(\"we are learning python\") #srings\n",
    "print(2+3) #print operators\n",
    "# for interpretre press ctrl+shift+p"
   ]
  },
  {
   "cell_type": "markdown",
   "id": "91638bd0",
   "metadata": {},
   "source": [
    " ### 05-varibles"
   ]
  },
  {
   "cell_type": "code",
   "execution_count": 5,
   "id": "c93cf66b",
   "metadata": {},
   "outputs": [
    {
     "name": "stdout",
     "output_type": "stream",
     "text": [
      "5\n",
      "we are learning python\n",
      "32.5\n",
      "<class 'float'>\n",
      "<class 'str'>\n",
      "mangoes\n",
      "<class 'str'>\n"
     ]
    }
   ],
   "source": [
    "# #variables: object contaning specific value\n",
    "x= 5 # numeric varible\n",
    "print(x)\n",
    "\n",
    "y=\"we are learning python\" #string variable\n",
    "print(y)\n",
    "\n",
    "x=32.5\n",
    "print(x)\n",
    "\n",
    "#types of variable\n",
    "type(x)\n",
    "print(type(x))\n",
    "print(type(y))\n",
    "\n",
    "# rules to sign a varibles\n",
    "# 1- the varibles should contain letters, numbers or underscore\n",
    "# 2- Do not start with number\n",
    "# 3- Spaces are not allowed\n",
    "# 4- do not use key words in function(eg break, median, test)\n",
    "# 5- short and descriptive\n",
    "# 6- case sensitivity (lower and upercase) \n",
    "\n",
    "\n",
    "fruit_basket=8\n",
    "fruit_basket= \"mangoes\"\n",
    "\n",
    "print(fruit_basket)\n",
    "\n",
    "print(type(fruit_basket))"
   ]
  },
  {
   "cell_type": "markdown",
   "id": "f6782ac2",
   "metadata": {},
   "source": [
    " ### 06-Input_varibles"
   ]
  },
  {
   "cell_type": "code",
   "execution_count": 6,
   "id": "cc3779ad",
   "metadata": {},
   "outputs": [
    {
     "name": "stdout",
     "output_type": "stream",
     "text": [
      "mangoes\n",
      "which is your favourit fruit?Mangoes\n",
      "Mangoes\n",
      "what is your name? Faseeh\n",
      "Hello Faseeh\n",
      "what is your name? Faseeh\n",
      "Hello Faseeh\n",
      "what is yur name?  Fseeh\n",
      "how old are yuo?  19\n",
      "hello Fseeh you are young\n",
      "my age is 5\n"
     ]
    }
   ],
   "source": [
    "fruit_basket=\"mangoes\"\n",
    "print(fruit_basket)\n",
    "\n",
    "#input function use\n",
    "fruit_basket=input(\"which is your favourit fruit?\")\n",
    "print(fruit_basket)\n",
    "\n",
    "#input function second stage\n",
    "name=input(\"what is your name? \")\n",
    "greetings=\"Hello\"\n",
    "\n",
    "print(greetings, name)\n",
    "\n",
    "#anotherway of stage 2 input function\n",
    "name=input(\"what is your name? \")\n",
    "\n",
    "print(\"Hello\", name)\n",
    "\n",
    "#3rd Stage input finction\n",
    "name=input(\"what is yur name?  \")\n",
    "age=input(\"how old are yuo?  \")\n",
    "greetings=\"hello\"\n",
    "\n",
    "print(greetings, name, \"you are young\")\n",
    "x=5\n",
    "y=\"my age is\"\n",
    "print(y,x)"
   ]
  },
  {
   "cell_type": "markdown",
   "id": "f689791e",
   "metadata": {},
   "source": [
    " ### 07-Conditional-Logics"
   ]
  },
  {
   "cell_type": "code",
   "execution_count": 7,
   "id": "17f94222",
   "metadata": {},
   "outputs": [
    {
     "name": "stdout",
     "output_type": "stream",
     "text": [
      "True\n",
      "False\n",
      "False\n",
      "True\n",
      "False\n",
      "True\n",
      "False\n",
      "True\n",
      "how old are you  19\n",
      "True\n"
     ]
    }
   ],
   "source": [
    "# logical operators are either true or false or yes\n",
    "# equal to      ==\n",
    "# not equal t   !=\n",
    "# less than     <\n",
    "# # grater than   >\n",
    "# # less than and equal to <=\n",
    "# # greater than and equa to >=\n",
    "\n",
    "#is 6 equal to 6?\n",
    "print(6==6)\n",
    "print(6==4)\n",
    "print(4!=4)\n",
    "print(3<6)\n",
    "print(4>8)\n",
    "print(2<=4)\n",
    "print(5>=9)\n",
    "\n",
    "\n",
    "# application of logical operators\n",
    "Sabeeh_age=6\n",
    "age_at_school=5\n",
    "print(Sabeeh_age>=age_at_school)\n",
    "\n",
    "Sabeeh_age=input(\"how old are you  \")\n",
    "Sabeeh_age=int(Sabeeh_age)\n",
    "age_at_school=5\n",
    "print(Sabeeh_age>=age_at_school) #logical operator"
   ]
  },
  {
   "cell_type": "markdown",
   "id": "64a4fccd",
   "metadata": {},
   "source": [
    " ### 08-Type-Conversion"
   ]
  },
  {
   "cell_type": "code",
   "execution_count": 8,
   "id": "264259a3",
   "metadata": {},
   "outputs": [
    {
     "name": "stdout",
     "output_type": "stream",
     "text": [
      "<class 'int'>\n",
      "102.0\n",
      "<class 'float'>\n",
      "what is your age  19\n",
      "19 <class 'int'>\n"
     ]
    }
   ],
   "source": [
    "x=10\n",
    "y=10.2\n",
    "z= \"hello\"\n",
    "print(type(x))\n",
    "\n",
    "#implicit type conversion\n",
    "x=x*y\n",
    "print(x)\n",
    "print(type(x))\n",
    "\n",
    "#explicit type conversion\n",
    "age=input(\"what is your age  \")\n",
    "print(age, type(int(age)))"
   ]
  },
  {
   "cell_type": "markdown",
   "id": "d523434f",
   "metadata": {},
   "source": [
    " ### 09-if-else-elif"
   ]
  },
  {
   "cell_type": "code",
   "execution_count": 9,
   "id": "976fb3fc",
   "metadata": {},
   "outputs": [
    {
     "name": "stdout",
     "output_type": "stream",
     "text": [
      "Shahram cannot go to school\n"
     ]
    }
   ],
   "source": [
    "required_age_at_school =5\n",
    "Shahram_age= 4\n",
    "\n",
    "#can Shahram go to school\n",
    "\n",
    "if Shahram_age==required_age_at_school:\n",
    "    print(\"Shahram can go to school\")\n",
    "elif Shahram_age > required_age_at_school:\n",
    "    print(\"Shshram should go to high school\")\n",
    "else:\n",
    "    print(\"Shahram cannot go to school\")"
   ]
  },
  {
   "cell_type": "markdown",
   "id": "74ef6421",
   "metadata": {},
   "source": [
    " ### 10-Function"
   ]
  },
  {
   "cell_type": "code",
   "execution_count": 10,
   "id": "6310ec01",
   "metadata": {},
   "outputs": [
    {
     "name": "stdout",
     "output_type": "stream",
     "text": [
      "how ar you?  \n",
      "how ar you?  \n",
      "how ar you?  \n",
      "how ar you?  \n",
      "how ar you?  \n",
      "how ar you?  \n",
      "how ar you?  \n",
      "number\n",
      "number\n",
      "number\n",
      "number\n",
      "Shahram can go to school\n",
      "42\n"
     ]
    }
   ],
   "source": [
    "\n",
    "#1\n",
    "# defining a function\n",
    "def print_faseeh():\n",
    "    print(\"how ar you?  \")\n",
    "    print(\"how ar you?  \")\n",
    "    print(\"how ar you?  \")\n",
    "print_faseeh()\n",
    "\n",
    "# #2\n",
    "def print_faseeh():\n",
    "    text =\"how ar you?  \"\n",
    "    print(text)\n",
    "    print(text)\n",
    "    print(text)\n",
    "    print(text) \n",
    "print_faseeh()\n",
    "\n",
    "#3\n",
    "def this(text):\n",
    "    print(text)\n",
    "    print(text)\n",
    "    print(text)\n",
    "    print(text)\n",
    "this(\"number\")\n",
    "\n",
    "\n",
    "# defining a function with if =, elif. else ststement\n",
    "def school_age_calculator(age):\n",
    "    if age==5:\n",
    "        print(\"Shahram can go to school\")\n",
    "    elif age>5:\n",
    "        print(\"Sharam should go to high school.com\")\n",
    "    else:\n",
    "        print(\"Shahram is still young\")\n",
    "    \n",
    "school_age_calculator(5)\n",
    "\n",
    "\n",
    "# defining a future function\n",
    "\n",
    "def age(age):\n",
    "    new_age=age+40\n",
    "    return (new_age)\n",
    "new_age=age(2)\n",
    "print(new_age)"
   ]
  },
  {
   "cell_type": "markdown",
   "id": "ff657131",
   "metadata": {},
   "source": [
    " ### 11- Loops"
   ]
  },
  {
   "cell_type": "code",
   "execution_count": 11,
   "id": "4e5c34a0",
   "metadata": {},
   "outputs": [
    {
     "name": "stdout",
     "output_type": "stream",
     "text": [
      "0\n",
      "1\n",
      "2\n",
      "3\n",
      "4\n",
      "5\n",
      "5\n",
      "6\n",
      "7\n",
      "8\n",
      "9\n",
      "Mon\n",
      "Tue\n",
      "Wed\n",
      "Thru\n",
      "Sat\n",
      "Sun\n"
     ]
    }
   ],
   "source": [
    "# while and for loops\n",
    "# while loops\n",
    "\n",
    "\n",
    "x=0\n",
    "while(x<=5):\n",
    "    print(x)\n",
    "    x=x+1\n",
    "\n",
    "#for loop\n",
    "\n",
    "for x in range(5,10):\n",
    "    print(x)\n",
    "\n",
    "\n",
    "# array\n",
    "days= (\"Mon\", \"Tue\", \"Wed\", \"Thru\", \"Fri\", \"Sat\", \"Sun\")\n",
    "for i in days:\n",
    "    # if (i==\"Fri\"):break #Sopts at friday\n",
    "    if (i==\"Fri\"): continue #Skips Fri day\n",
    "    print(i)"
   ]
  },
  {
   "cell_type": "markdown",
   "id": "1fe37d4b",
   "metadata": {},
   "source": [
    "### 12-Import_Libraries"
   ]
  },
  {
   "cell_type": "code",
   "execution_count": 12,
   "id": "8756c3fc",
   "metadata": {
    "scrolled": true
   },
   "outputs": [
    {
     "name": "stdout",
     "output_type": "stream",
     "text": [
      "The value of pi is 3.141592653589793\n",
      "358.39166666666665\n",
      "375.175\n",
      "150\n"
     ]
    }
   ],
   "source": [
    "#if you want to print value of pi\n",
    "\n",
    "import math\n",
    "\n",
    "print(\"The value of pi is\", math.pi)\n",
    "\n",
    "import statistics\n",
    "\n",
    "x=(150,350.350,250,450,550,400)\n",
    "print(statistics.mean(x))\n",
    "print(statistics.median(x))\n",
    "print(statistics.mode(x))\n",
    "\n",
    "#numpy, pandas,"
   ]
  },
  {
   "cell_type": "markdown",
   "id": "85d3a6e2",
   "metadata": {},
   "source": [
    "### 12-Trouble-Shooting"
   ]
  },
  {
   "cell_type": "code",
   "execution_count": 13,
   "id": "e070b5d0",
   "metadata": {},
   "outputs": [
    {
     "name": "stdout",
     "output_type": "stream",
     "text": [
      "helloFaseeh\n",
      "hello Faseeh\n"
     ]
    }
   ],
   "source": [
    "#trouble shooting of error\n",
    "# print('we are learing python') #sytax error\n",
    "#print(25/0) #run time error\n",
    "\n",
    "\n",
    "name= \"Faseeh\"\n",
    "print(\"hello\"+name)\n",
    "print(\"hello\", name)"
   ]
  }
 ],
 "metadata": {
  "kernelspec": {
   "display_name": "Python 3 (ipykernel)",
   "language": "python",
   "name": "python3"
  },
  "language_info": {
   "codemirror_mode": {
    "name": "ipython",
    "version": 3
   },
   "file_extension": ".py",
   "mimetype": "text/x-python",
   "name": "python",
   "nbconvert_exporter": "python",
   "pygments_lexer": "ipython3",
   "version": "3.9.7"
  }
 },
 "nbformat": 4,
 "nbformat_minor": 5
}
