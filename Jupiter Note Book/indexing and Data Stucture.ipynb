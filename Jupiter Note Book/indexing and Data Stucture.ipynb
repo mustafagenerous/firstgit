{
 "cells": [
  {
   "cell_type": "markdown",
   "id": "6344041f",
   "metadata": {},
   "source": [
    "### Indexing"
   ]
  },
  {
   "cell_type": "code",
   "execution_count": 1,
   "id": "c674b827",
   "metadata": {},
   "outputs": [],
   "source": [
    "# Make a String"
   ]
  },
  {
   "cell_type": "code",
   "execution_count": 2,
   "id": "c320a680",
   "metadata": {},
   "outputs": [
    {
     "data": {
      "text/plain": [
       "'Samosa Pakora'"
      ]
     },
     "execution_count": 2,
     "metadata": {},
     "output_type": "execute_result"
    }
   ],
   "source": [
    "a= \"Samosa Pakora\"\n",
    "a"
   ]
  },
  {
   "cell_type": "code",
   "execution_count": 3,
   "id": "dabdcdc5",
   "metadata": {},
   "outputs": [
    {
     "data": {
      "text/plain": [
       "'Samosa Pakora'"
      ]
     },
     "execution_count": 3,
     "metadata": {},
     "output_type": "execute_result"
    }
   ],
   "source": [
    "a"
   ]
  },
  {
   "cell_type": "code",
   "execution_count": 4,
   "id": "b17c331b",
   "metadata": {
    "scrolled": true
   },
   "outputs": [
    {
     "data": {
      "text/plain": [
       "'S'"
      ]
     },
     "execution_count": 4,
     "metadata": {},
     "output_type": "execute_result"
    }
   ],
   "source": [
    "a[0]"
   ]
  },
  {
   "cell_type": "code",
   "execution_count": 5,
   "id": "28180392",
   "metadata": {},
   "outputs": [
    {
     "data": {
      "text/plain": [
       "'a'"
      ]
     },
     "execution_count": 5,
     "metadata": {},
     "output_type": "execute_result"
    }
   ],
   "source": [
    "a[1]"
   ]
  },
  {
   "cell_type": "code",
   "execution_count": 6,
   "id": "21235430",
   "metadata": {},
   "outputs": [
    {
     "data": {
      "text/plain": [
       "'m'"
      ]
     },
     "execution_count": 6,
     "metadata": {},
     "output_type": "execute_result"
    }
   ],
   "source": [
    "a[2]"
   ]
  },
  {
   "cell_type": "code",
   "execution_count": 7,
   "id": "cd2dcb4a",
   "metadata": {},
   "outputs": [
    {
     "data": {
      "text/plain": [
       "'P'"
      ]
     },
     "execution_count": 7,
     "metadata": {},
     "output_type": "execute_result"
    }
   ],
   "source": [
    "a[7]"
   ]
  },
  {
   "cell_type": "code",
   "execution_count": 8,
   "id": "dc75abb3",
   "metadata": {},
   "outputs": [
    {
     "data": {
      "text/plain": [
       "13"
      ]
     },
     "execution_count": 8,
     "metadata": {},
     "output_type": "execute_result"
    }
   ],
   "source": [
    "# lenght of indices\n",
    "len (a)"
   ]
  },
  {
   "cell_type": "code",
   "execution_count": 9,
   "id": "9e8a24e3",
   "metadata": {
    "scrolled": false
   },
   "outputs": [
    {
     "data": {
      "text/plain": [
       "'a'"
      ]
     },
     "execution_count": 9,
     "metadata": {},
     "output_type": "execute_result"
    }
   ],
   "source": [
    "a[12]"
   ]
  },
  {
   "cell_type": "code",
   "execution_count": 10,
   "id": "af040594",
   "metadata": {},
   "outputs": [
    {
     "data": {
      "text/plain": [
       "'Samos'"
      ]
     },
     "execution_count": 10,
     "metadata": {},
     "output_type": "execute_result"
    }
   ],
   "source": [
    "a[0:5]"
   ]
  },
  {
   "cell_type": "code",
   "execution_count": 11,
   "id": "dca77c08",
   "metadata": {},
   "outputs": [
    {
     "data": {
      "text/plain": [
       "'Samosa'"
      ]
     },
     "execution_count": 11,
     "metadata": {},
     "output_type": "execute_result"
    }
   ],
   "source": [
    "# Last Index in exclusive\n",
    "a[0:6]"
   ]
  },
  {
   "cell_type": "code",
   "execution_count": 12,
   "id": "796a4991",
   "metadata": {},
   "outputs": [
    {
     "data": {
      "text/plain": [
       "'Samosa Pakora'"
      ]
     },
     "execution_count": 12,
     "metadata": {},
     "output_type": "execute_result"
    }
   ],
   "source": [
    "a[0:13]"
   ]
  },
  {
   "cell_type": "code",
   "execution_count": 13,
   "id": "f61481f8",
   "metadata": {},
   "outputs": [
    {
     "data": {
      "text/plain": [
       "'r'"
      ]
     },
     "execution_count": 13,
     "metadata": {},
     "output_type": "execute_result"
    }
   ],
   "source": [
    "a[-2]"
   ]
  },
  {
   "cell_type": "code",
   "execution_count": 14,
   "id": "cf888d1f",
   "metadata": {},
   "outputs": [
    {
     "data": {
      "text/plain": [
       "'a'"
      ]
     },
     "execution_count": 14,
     "metadata": {},
     "output_type": "execute_result"
    }
   ],
   "source": [
    "a[-1]"
   ]
  },
  {
   "cell_type": "code",
   "execution_count": 15,
   "id": "517fbfaa",
   "metadata": {},
   "outputs": [
    {
     "data": {
      "text/plain": [
       "'P'"
      ]
     },
     "execution_count": 15,
     "metadata": {},
     "output_type": "execute_result"
    }
   ],
   "source": [
    "a[-6]"
   ]
  },
  {
   "cell_type": "code",
   "execution_count": 16,
   "id": "3d065f3e",
   "metadata": {},
   "outputs": [
    {
     "data": {
      "text/plain": [
       "'Pakor'"
      ]
     },
     "execution_count": 16,
     "metadata": {},
     "output_type": "execute_result"
    }
   ],
   "source": [
    "a[-6:-1]"
   ]
  },
  {
   "cell_type": "code",
   "execution_count": 17,
   "id": "ec7010f1",
   "metadata": {},
   "outputs": [
    {
     "data": {
      "text/plain": [
       "''"
      ]
     },
     "execution_count": 17,
     "metadata": {},
     "output_type": "execute_result"
    }
   ],
   "source": [
    "a[-1:-6]"
   ]
  },
  {
   "cell_type": "code",
   "execution_count": 18,
   "id": "b47cc056",
   "metadata": {},
   "outputs": [
    {
     "data": {
      "text/plain": [
       "''"
      ]
     },
     "execution_count": 18,
     "metadata": {},
     "output_type": "execute_result"
    }
   ],
   "source": [
    "a[-6:-13]"
   ]
  },
  {
   "cell_type": "code",
   "execution_count": 19,
   "id": "3901fd0d",
   "metadata": {},
   "outputs": [
    {
     "data": {
      "text/plain": [
       "'Samosa Pakor'"
      ]
     },
     "execution_count": 19,
     "metadata": {},
     "output_type": "execute_result"
    }
   ],
   "source": [
    "a[-13:-1]"
   ]
  },
  {
   "cell_type": "code",
   "execution_count": 20,
   "id": "ad144def",
   "metadata": {},
   "outputs": [
    {
     "data": {
      "text/plain": [
       "'S'"
      ]
     },
     "execution_count": 20,
     "metadata": {},
     "output_type": "execute_result"
    }
   ],
   "source": [
    "a[-13]"
   ]
  },
  {
   "cell_type": "code",
   "execution_count": 21,
   "id": "91e46db1",
   "metadata": {},
   "outputs": [
    {
     "data": {
      "text/plain": [
       "'amosa Pakor'"
      ]
     },
     "execution_count": 21,
     "metadata": {},
     "output_type": "execute_result"
    }
   ],
   "source": [
    "a[-12:-1]"
   ]
  },
  {
   "cell_type": "code",
   "execution_count": 22,
   "id": "0fddd233",
   "metadata": {},
   "outputs": [
    {
     "data": {
      "text/plain": [
       "''"
      ]
     },
     "execution_count": 22,
     "metadata": {},
     "output_type": "execute_result"
    }
   ],
   "source": [
    "a[-13:0]"
   ]
  },
  {
   "cell_type": "code",
   "execution_count": 23,
   "id": "7355dcbc",
   "metadata": {},
   "outputs": [
    {
     "data": {
      "text/plain": [
       "'Samosa Pakor'"
      ]
     },
     "execution_count": 23,
     "metadata": {},
     "output_type": "execute_result"
    }
   ],
   "source": [
    "a[-13:-1]"
   ]
  },
  {
   "cell_type": "code",
   "execution_count": 24,
   "id": "e6ab333a",
   "metadata": {},
   "outputs": [
    {
     "data": {
      "text/plain": [
       "'a'"
      ]
     },
     "execution_count": 24,
     "metadata": {},
     "output_type": "execute_result"
    }
   ],
   "source": [
    "a[-1:13]"
   ]
  },
  {
   "cell_type": "code",
   "execution_count": 25,
   "id": "b2dd8284",
   "metadata": {},
   "outputs": [
    {
     "data": {
      "text/plain": [
       "'biryani'"
      ]
     },
     "execution_count": 25,
     "metadata": {},
     "output_type": "execute_result"
    }
   ],
   "source": [
    "food =\"biryani\"\n",
    "food"
   ]
  },
  {
   "cell_type": "code",
   "execution_count": 26,
   "id": "f029d4ac",
   "metadata": {
    "scrolled": true
   },
   "outputs": [
    {
     "data": {
      "text/plain": [
       "7"
      ]
     },
     "execution_count": 26,
     "metadata": {},
     "output_type": "execute_result"
    }
   ],
   "source": [
    "len(food)"
   ]
  },
  {
   "cell_type": "markdown",
   "id": "649b4087",
   "metadata": {},
   "source": [
    "### String Methods"
   ]
  },
  {
   "cell_type": "code",
   "execution_count": 27,
   "id": "cae80137",
   "metadata": {},
   "outputs": [
    {
     "data": {
      "text/plain": [
       "'biryani'"
      ]
     },
     "execution_count": 27,
     "metadata": {},
     "output_type": "execute_result"
    }
   ],
   "source": [
    "food"
   ]
  },
  {
   "cell_type": "code",
   "execution_count": 28,
   "id": "01c9b977",
   "metadata": {},
   "outputs": [
    {
     "data": {
      "text/plain": [
       "'Biryani'"
      ]
     },
     "execution_count": 28,
     "metadata": {},
     "output_type": "execute_result"
    }
   ],
   "source": [
    "# Capatalize First Letter\n",
    "food.capitalize()"
   ]
  },
  {
   "cell_type": "code",
   "execution_count": 29,
   "id": "94dd8e73",
   "metadata": {},
   "outputs": [
    {
     "data": {
      "text/plain": [
       "'BIRYANI'"
      ]
     },
     "execution_count": 29,
     "metadata": {},
     "output_type": "execute_result"
    }
   ],
   "source": [
    "# Upper case Letter\n",
    "food.upper()"
   ]
  },
  {
   "cell_type": "code",
   "execution_count": 30,
   "id": "fa83d2a5",
   "metadata": {
    "scrolled": true
   },
   "outputs": [
    {
     "data": {
      "text/plain": [
       "'biryani'"
      ]
     },
     "execution_count": 30,
     "metadata": {},
     "output_type": "execute_result"
    }
   ],
   "source": [
    "food.lower()"
   ]
  },
  {
   "cell_type": "code",
   "execution_count": 31,
   "id": "c5d0c7d2",
   "metadata": {},
   "outputs": [
    {
     "data": {
      "text/plain": [
       "'biryshni'"
      ]
     },
     "execution_count": 31,
     "metadata": {},
     "output_type": "execute_result"
    }
   ],
   "source": [
    "#replace\n",
    "food.replace(\"a\",\"sh\")"
   ]
  },
  {
   "cell_type": "code",
   "execution_count": 32,
   "id": "134135bb",
   "metadata": {},
   "outputs": [
    {
     "data": {
      "text/plain": [
       "'Mohammad Shahram urf Shero'"
      ]
     },
     "execution_count": 32,
     "metadata": {},
     "output_type": "execute_result"
    }
   ],
   "source": [
    "# Counting a specific alphabet in a string\n",
    "name=\"Mohammad Shahram urf Shero\"\n",
    "name"
   ]
  },
  {
   "cell_type": "code",
   "execution_count": 33,
   "id": "9b2c53aa",
   "metadata": {},
   "outputs": [
    {
     "data": {
      "text/plain": [
       "2"
      ]
     },
     "execution_count": 33,
     "metadata": {},
     "output_type": "execute_result"
    }
   ],
   "source": [
    "name.count(\"S\")"
   ]
  },
  {
   "cell_type": "code",
   "execution_count": 34,
   "id": "deebe8e6",
   "metadata": {},
   "outputs": [
    {
     "data": {
      "text/plain": [
       "3"
      ]
     },
     "execution_count": 34,
     "metadata": {},
     "output_type": "execute_result"
    }
   ],
   "source": [
    "name.count(\"m\")"
   ]
  },
  {
   "cell_type": "markdown",
   "id": "751323bf",
   "metadata": {},
   "source": [
    "### Finding an index number in string"
   ]
  },
  {
   "cell_type": "code",
   "execution_count": 35,
   "id": "a3d6b16f",
   "metadata": {},
   "outputs": [
    {
     "data": {
      "text/plain": [
       "'Mohammad Shahram urf Shero'"
      ]
     },
     "execution_count": 35,
     "metadata": {},
     "output_type": "execute_result"
    }
   ],
   "source": [
    "name=\"Mohammad Shahram urf Shero\"\n",
    "name"
   ]
  },
  {
   "cell_type": "code",
   "execution_count": 36,
   "id": "43c5d606",
   "metadata": {},
   "outputs": [
    {
     "data": {
      "text/plain": [
       "17"
      ]
     },
     "execution_count": 36,
     "metadata": {},
     "output_type": "execute_result"
    }
   ],
   "source": [
    "name.find(\"u\")"
   ]
  },
  {
   "cell_type": "code",
   "execution_count": 37,
   "id": "3f29bda1",
   "metadata": {},
   "outputs": [
    {
     "data": {
      "text/plain": [
       "9"
      ]
     },
     "execution_count": 37,
     "metadata": {},
     "output_type": "execute_result"
    }
   ],
   "source": [
    "name.find(\"S\")"
   ]
  },
  {
   "cell_type": "code",
   "execution_count": 38,
   "id": "0ddb0aa3",
   "metadata": {},
   "outputs": [
    {
     "data": {
      "text/plain": [
       "-1"
      ]
     },
     "execution_count": 38,
     "metadata": {},
     "output_type": "execute_result"
    }
   ],
   "source": [
    "name.find(\"g\")"
   ]
  },
  {
   "cell_type": "markdown",
   "id": "338354dd",
   "metadata": {},
   "source": [
    "### How to split a string"
   ]
  },
  {
   "cell_type": "code",
   "execution_count": 39,
   "id": "9a02777a",
   "metadata": {},
   "outputs": [
    {
     "data": {
      "text/plain": [
       "'I love Samosa, Pakora, Baryani, and Karhai'"
      ]
     },
     "execution_count": 39,
     "metadata": {},
     "output_type": "execute_result"
    }
   ],
   "source": [
    "food=\"I love Samosa, Pakora, Baryani, and Karhai\"\n",
    "food"
   ]
  },
  {
   "cell_type": "code",
   "execution_count": 40,
   "id": "b66dceb5",
   "metadata": {},
   "outputs": [
    {
     "data": {
      "text/plain": [
       "['I', 'love', 'Samosa,', 'Pakora,', 'Baryani,', 'and', 'Karhai']"
      ]
     },
     "execution_count": 40,
     "metadata": {},
     "output_type": "execute_result"
    }
   ],
   "source": [
    "food.split(\" \")"
   ]
  },
  {
   "cell_type": "code",
   "execution_count": 41,
   "id": "41d9804b",
   "metadata": {},
   "outputs": [
    {
     "data": {
      "text/plain": [
       "['I love Samosa', ' Pakora', ' Baryani', ' and Karhai']"
      ]
     },
     "execution_count": 41,
     "metadata": {},
     "output_type": "execute_result"
    }
   ],
   "source": [
    "food.split(\",\")"
   ]
  },
  {
   "cell_type": "code",
   "execution_count": 42,
   "id": "cd818928",
   "metadata": {},
   "outputs": [
    {
     "data": {
      "text/plain": [
       "'I Love Samosa Pakora Baryani Chowmin and Karhai'"
      ]
     },
     "execution_count": 42,
     "metadata": {},
     "output_type": "execute_result"
    }
   ],
   "source": [
    "food= \"I Love Samosa Pakora Baryani Chowmin and Karhai\"\n",
    "food"
   ]
  },
  {
   "cell_type": "code",
   "execution_count": 43,
   "id": "3dc60809",
   "metadata": {},
   "outputs": [
    {
     "data": {
      "text/plain": [
       "['I', 'Love', 'Samosa', 'Pakora', 'Baryani', 'Chowmin', 'and', 'Karhai']"
      ]
     },
     "execution_count": 43,
     "metadata": {},
     "output_type": "execute_result"
    }
   ],
   "source": [
    "food.split(\" \")"
   ]
  },
  {
   "cell_type": "markdown",
   "id": "f5353399",
   "metadata": {},
   "source": [
    "## Basic Data Stucture in Python\n",
    "### Tuples\n",
    "### List\n",
    "### Dictionaries\n",
    "### Set"
   ]
  },
  {
   "cell_type": "markdown",
   "id": "2d12394b",
   "metadata": {},
   "source": [
    "### 1-Tuples\n",
    "- Order Collection of Elemts\n",
    "\n",
    "- Enclosed in round braces ()\n",
    "\n",
    "- Different kind of Elemets can be store\n",
    "\n",
    "- Once elements are stored you cannot change them"
   ]
  },
  {
   "cell_type": "code",
   "execution_count": 2,
   "id": "2a8c2f8a",
   "metadata": {},
   "outputs": [
    {
     "data": {
      "text/plain": [
       "(1, 'Python', True, 10.5)"
      ]
     },
     "execution_count": 2,
     "metadata": {},
     "output_type": "execute_result"
    }
   ],
   "source": [
    "tup1=(1, \"Python\", True, 10.5)\n",
    "tup1"
   ]
  },
  {
   "cell_type": "code",
   "execution_count": 3,
   "id": "ead09cff",
   "metadata": {
    "scrolled": true
   },
   "outputs": [
    {
     "data": {
      "text/plain": [
       "tuple"
      ]
     },
     "execution_count": 3,
     "metadata": {},
     "output_type": "execute_result"
    }
   ],
   "source": [
    "# Type of tuple\n",
    "type(tup1)"
   ]
  },
  {
   "cell_type": "markdown",
   "id": "f2a29abc",
   "metadata": {},
   "source": [
    "### - Indexing in Tuple"
   ]
  },
  {
   "cell_type": "code",
   "execution_count": 4,
   "id": "9115bfa3",
   "metadata": {},
   "outputs": [
    {
     "data": {
      "text/plain": [
       "'Python'"
      ]
     },
     "execution_count": 4,
     "metadata": {},
     "output_type": "execute_result"
    }
   ],
   "source": [
    "tup1[1]"
   ]
  },
  {
   "cell_type": "code",
   "execution_count": 5,
   "id": "e4dac770",
   "metadata": {},
   "outputs": [
    {
     "data": {
      "text/plain": [
       "1"
      ]
     },
     "execution_count": 5,
     "metadata": {},
     "output_type": "execute_result"
    }
   ],
   "source": [
    "tup1[0]"
   ]
  },
  {
   "cell_type": "code",
   "execution_count": 4,
   "id": "17624e2c",
   "metadata": {},
   "outputs": [
    {
     "data": {
      "text/plain": [
       "(1, 'Python', True, 10.5)"
      ]
     },
     "execution_count": 4,
     "metadata": {},
     "output_type": "execute_result"
    }
   ],
   "source": [
    "tup1[0:4]"
   ]
  },
  {
   "cell_type": "code",
   "execution_count": 9,
   "id": "98c12a1e",
   "metadata": {},
   "outputs": [
    {
     "data": {
      "text/plain": [
       "4"
      ]
     },
     "execution_count": 9,
     "metadata": {},
     "output_type": "execute_result"
    }
   ],
   "source": [
    "len(tup1)"
   ]
  },
  {
   "cell_type": "code",
   "execution_count": 23,
   "id": "5fb45ab1",
   "metadata": {},
   "outputs": [
    {
     "data": {
      "text/plain": [
       "(13, 'Shahram', 23.5, False)"
      ]
     },
     "execution_count": 23,
     "metadata": {},
     "output_type": "execute_result"
    }
   ],
   "source": [
    "tup2=(13, \"Shahram\", 23.5, False)\n",
    "tup2"
   ]
  },
  {
   "cell_type": "code",
   "execution_count": 11,
   "id": "9aef0f9e",
   "metadata": {},
   "outputs": [
    {
     "data": {
      "text/plain": [
       "(1, 'Python', True, 10.5, 13, 'Shahram', 23.5, False)"
      ]
     },
     "execution_count": 11,
     "metadata": {},
     "output_type": "execute_result"
    }
   ],
   "source": [
    "# Concatinate (adding 2 or more tuples)\n",
    "tup1+tup2"
   ]
  },
  {
   "cell_type": "code",
   "execution_count": 12,
   "id": "0dbee7fb",
   "metadata": {},
   "outputs": [
    {
     "data": {
      "text/plain": [
       "(1, 'Python', True, 10.5, 1, 'Python', True, 10.5, 13, 'Shahram', 23.5, False)"
      ]
     },
     "execution_count": 12,
     "metadata": {},
     "output_type": "execute_result"
    }
   ],
   "source": [
    "tup1*2+tup2"
   ]
  },
  {
   "cell_type": "code",
   "execution_count": 14,
   "id": "e2af724a",
   "metadata": {},
   "outputs": [
    {
     "data": {
      "text/plain": [
       "(13, 44, 0, 34, 12)"
      ]
     },
     "execution_count": 14,
     "metadata": {},
     "output_type": "execute_result"
    }
   ],
   "source": [
    "tup3=(13,44,0,34,12)\n",
    "tup3"
   ]
  },
  {
   "cell_type": "code",
   "execution_count": 15,
   "id": "49a52b37",
   "metadata": {},
   "outputs": [
    {
     "data": {
      "text/plain": [
       "0"
      ]
     },
     "execution_count": 15,
     "metadata": {},
     "output_type": "execute_result"
    }
   ],
   "source": [
    "#minimum Value\n",
    "min(tup3)"
   ]
  },
  {
   "cell_type": "code",
   "execution_count": 16,
   "id": "f32c7370",
   "metadata": {},
   "outputs": [
    {
     "data": {
      "text/plain": [
       "44"
      ]
     },
     "execution_count": 16,
     "metadata": {},
     "output_type": "execute_result"
    }
   ],
   "source": [
    "max(tup3)"
   ]
  },
  {
   "cell_type": "code",
   "execution_count": 90,
   "id": "cf659c1f",
   "metadata": {
    "scrolled": true
   },
   "outputs": [
    {
     "data": {
      "text/plain": [
       "(1, 'Python', True, 10.5)"
      ]
     },
     "execution_count": 90,
     "metadata": {},
     "output_type": "execute_result"
    }
   ],
   "source": [
    "tup1"
   ]
  },
  {
   "cell_type": "code",
   "execution_count": 92,
   "id": "6a470ebf",
   "metadata": {},
   "outputs": [
    {
     "data": {
      "text/plain": [
       "'apple'"
      ]
     },
     "execution_count": 92,
     "metadata": {},
     "output_type": "execute_result"
    }
   ],
   "source": [
    "tup4=(\"apple\")\n",
    "tup4"
   ]
  },
  {
   "cell_type": "code",
   "execution_count": 93,
   "id": "365d7fc2",
   "metadata": {},
   "outputs": [
    {
     "data": {
      "text/plain": [
       "str"
      ]
     },
     "execution_count": 93,
     "metadata": {},
     "output_type": "execute_result"
    }
   ],
   "source": [
    "type(tup4)"
   ]
  },
  {
   "cell_type": "code",
   "execution_count": 96,
   "id": "e758fe22",
   "metadata": {},
   "outputs": [
    {
     "data": {
      "text/plain": [
       "('apple',)"
      ]
     },
     "execution_count": 96,
     "metadata": {},
     "output_type": "execute_result"
    }
   ],
   "source": [
    "tp4=(\"apple\",)\n",
    "tp4"
   ]
  },
  {
   "cell_type": "code",
   "execution_count": 97,
   "id": "b3e8a651",
   "metadata": {},
   "outputs": [
    {
     "data": {
      "text/plain": [
       "tuple"
      ]
     },
     "execution_count": 97,
     "metadata": {},
     "output_type": "execute_result"
    }
   ],
   "source": [
    "type(tp4)"
   ]
  },
  {
   "cell_type": "code",
   "execution_count": 98,
   "id": "3288f738",
   "metadata": {},
   "outputs": [
    {
     "data": {
      "text/plain": [
       "(13, 'Shahram', 23.5, False)"
      ]
     },
     "execution_count": 98,
     "metadata": {},
     "output_type": "execute_result"
    }
   ],
   "source": [
    "tup2"
   ]
  },
  {
   "cell_type": "code",
   "execution_count": 100,
   "id": "2ced05ea",
   "metadata": {},
   "outputs": [
    {
     "data": {
      "text/plain": [
       "(13, 'Shahram')"
      ]
     },
     "execution_count": 100,
     "metadata": {},
     "output_type": "execute_result"
    }
   ],
   "source": [
    "tup2[:2]"
   ]
  },
  {
   "cell_type": "code",
   "execution_count": 101,
   "id": "fd5654a9",
   "metadata": {},
   "outputs": [
    {
     "data": {
      "text/plain": [
       "(23.5, False)"
      ]
     },
     "execution_count": 101,
     "metadata": {},
     "output_type": "execute_result"
    }
   ],
   "source": [
    "tup2[2:]"
   ]
  },
  {
   "cell_type": "code",
   "execution_count": 5,
   "id": "62af470f",
   "metadata": {
    "scrolled": true
   },
   "outputs": [
    {
     "data": {
      "text/plain": [
       "(1, 'Python', True)"
      ]
     },
     "execution_count": 5,
     "metadata": {},
     "output_type": "execute_result"
    }
   ],
   "source": [
    "tup1[:3]"
   ]
  },
  {
   "cell_type": "code",
   "execution_count": 6,
   "id": "f6936c34",
   "metadata": {},
   "outputs": [
    {
     "data": {
      "text/plain": [
       "(10.5,)"
      ]
     },
     "execution_count": 6,
     "metadata": {},
     "output_type": "execute_result"
    }
   ],
   "source": [
    "tup1[3:]"
   ]
  },
  {
   "cell_type": "code",
   "execution_count": 8,
   "id": "2ca1513e",
   "metadata": {},
   "outputs": [
    {
     "data": {
      "text/plain": [
       "(True, 10.5)"
      ]
     },
     "execution_count": 8,
     "metadata": {},
     "output_type": "execute_result"
    }
   ],
   "source": [
    "tup1[2:4]"
   ]
  },
  {
   "cell_type": "code",
   "execution_count": 10,
   "id": "d4179008",
   "metadata": {},
   "outputs": [
    {
     "data": {
      "text/plain": [
       "1"
      ]
     },
     "execution_count": 10,
     "metadata": {},
     "output_type": "execute_result"
    }
   ],
   "source": [
    "tup1[-4]"
   ]
  },
  {
   "cell_type": "code",
   "execution_count": 12,
   "id": "795e6a15",
   "metadata": {},
   "outputs": [
    {
     "data": {
      "text/plain": [
       "10.5"
      ]
     },
     "execution_count": 12,
     "metadata": {},
     "output_type": "execute_result"
    }
   ],
   "source": [
    "tup1[-1]"
   ]
  },
  {
   "cell_type": "code",
   "execution_count": 15,
   "id": "9aed9ff0",
   "metadata": {},
   "outputs": [
    {
     "data": {
      "text/plain": [
       "('Python', True)"
      ]
     },
     "execution_count": 15,
     "metadata": {},
     "output_type": "execute_result"
    }
   ],
   "source": [
    "tup1[-3:-1]"
   ]
  },
  {
   "cell_type": "code",
   "execution_count": 22,
   "id": "c42ef2a3",
   "metadata": {},
   "outputs": [],
   "source": [
    "if \"python\" in tup1:\n",
    "    print(\"yes\")"
   ]
  },
  {
   "cell_type": "code",
   "execution_count": 24,
   "id": "66a2fd32",
   "metadata": {},
   "outputs": [
    {
     "name": "stdout",
     "output_type": "stream",
     "text": [
      "yes\n"
     ]
    }
   ],
   "source": [
    "if \"Shahram\" in tup2:\n",
    "    print(\"yes\")"
   ]
  },
  {
   "cell_type": "code",
   "execution_count": 25,
   "id": "6cc11f72",
   "metadata": {},
   "outputs": [
    {
     "data": {
      "text/plain": [
       "1"
      ]
     },
     "execution_count": 25,
     "metadata": {},
     "output_type": "execute_result"
    }
   ],
   "source": [
    "tup2.count(\"Shahram\")"
   ]
  },
  {
   "cell_type": "code",
   "execution_count": 26,
   "id": "3f8dcc38",
   "metadata": {},
   "outputs": [
    {
     "data": {
      "text/plain": [
       "1"
      ]
     },
     "execution_count": 26,
     "metadata": {},
     "output_type": "execute_result"
    }
   ],
   "source": [
    "tup2.index(\"Shahram\")"
   ]
  },
  {
   "cell_type": "code",
   "execution_count": 28,
   "id": "79adf831",
   "metadata": {},
   "outputs": [
    {
     "data": {
      "text/plain": [
       "(13, 'Shahram', 23.5, False)"
      ]
     },
     "execution_count": 28,
     "metadata": {},
     "output_type": "execute_result"
    }
   ],
   "source": [
    "tup2"
   ]
  },
  {
   "cell_type": "code",
   "execution_count": 29,
   "id": "4980232c",
   "metadata": {},
   "outputs": [
    {
     "data": {
      "text/plain": [
       "1"
      ]
     },
     "execution_count": 29,
     "metadata": {},
     "output_type": "execute_result"
    }
   ],
   "source": [
    "tup2.count(23.5)"
   ]
  },
  {
   "cell_type": "code",
   "execution_count": 30,
   "id": "61ede8c4",
   "metadata": {},
   "outputs": [
    {
     "data": {
      "text/plain": [
       "2"
      ]
     },
     "execution_count": 30,
     "metadata": {},
     "output_type": "execute_result"
    }
   ],
   "source": [
    "tup2.index(23.5)"
   ]
  },
  {
   "cell_type": "code",
   "execution_count": 31,
   "id": "24f91411",
   "metadata": {},
   "outputs": [
    {
     "data": {
      "text/plain": [
       "('Apple', 'Orange', 'Banana')"
      ]
     },
     "execution_count": 31,
     "metadata": {},
     "output_type": "execute_result"
    }
   ],
   "source": [
    "fruit=(\"Apple\", \"Orange\", \"Banana\")\n",
    "fruit"
   ]
  },
  {
   "cell_type": "code",
   "execution_count": 32,
   "id": "d0a8b111",
   "metadata": {},
   "outputs": [
    {
     "data": {
      "text/plain": [
       "tuple"
      ]
     },
     "execution_count": 32,
     "metadata": {},
     "output_type": "execute_result"
    }
   ],
   "source": [
    "type(fruit)"
   ]
  },
  {
   "cell_type": "code",
   "execution_count": 33,
   "id": "99ccc152",
   "metadata": {},
   "outputs": [
    {
     "name": "stdout",
     "output_type": "stream",
     "text": [
      "Apple\n"
     ]
    }
   ],
   "source": [
    "(Red, Orange, Yellow)= fruit\n",
    "print(Red)"
   ]
  },
  {
   "cell_type": "code",
   "execution_count": 34,
   "id": "6f30c08f",
   "metadata": {},
   "outputs": [
    {
     "name": "stdout",
     "output_type": "stream",
     "text": [
      "Banana\n"
     ]
    }
   ],
   "source": [
    "print(Yellow)"
   ]
  },
  {
   "cell_type": "code",
   "execution_count": 35,
   "id": "33839a0b",
   "metadata": {},
   "outputs": [
    {
     "data": {
      "text/plain": [
       "('Apple', 'Banana', 'Strawberry', 'Resberry', 'Cherry')"
      ]
     },
     "execution_count": 35,
     "metadata": {},
     "output_type": "execute_result"
    }
   ],
   "source": [
    "fruit2=(\"Apple\", \"Banana\", \"Strawberry\", \"Resberry\", \"Cherry\")\n",
    "fruit2"
   ]
  },
  {
   "cell_type": "code",
   "execution_count": 39,
   "id": "a40de050",
   "metadata": {},
   "outputs": [
    {
     "ename": "SyntaxError",
     "evalue": "multiple starred expressions in assignment (Temp/ipykernel_7516/3850745167.py, line 1)",
     "output_type": "error",
     "traceback": [
      "\u001b[1;36m  File \u001b[1;32m\"C:\\Users\\Maliha\\AppData\\Local\\Temp/ipykernel_7516/3850745167.py\"\u001b[1;36m, line \u001b[1;32m1\u001b[0m\n\u001b[1;33m    (*Green, *Yellow, Red)=fruit2\u001b[0m\n\u001b[1;37m    ^\u001b[0m\n\u001b[1;31mSyntaxError\u001b[0m\u001b[1;31m:\u001b[0m multiple starred expressions in assignment\n"
     ]
    }
   ],
   "source": [
    "(*Green, *Yellow, Red)=fruit2\n",
    "print(Green)\n",
    "print(Yellow)\n",
    "print(Red)"
   ]
  },
  {
   "cell_type": "markdown",
   "id": "f294c198",
   "metadata": {},
   "source": [
    "--- "
   ]
  },
  {
   "cell_type": "markdown",
   "id": "a3d101ec",
   "metadata": {},
   "source": [
    "### List\n",
    "- Order collection of elements\n",
    "- Elclosed in [] squre brackets\n",
    "- Value can be changed"
   ]
  },
  {
   "cell_type": "code",
   "execution_count": 51,
   "id": "68ae5a04",
   "metadata": {},
   "outputs": [
    {
     "data": {
      "text/plain": [
       "[1, 'Python', True, 10.5]"
      ]
     },
     "execution_count": 51,
     "metadata": {},
     "output_type": "execute_result"
    }
   ],
   "source": [
    "list1=[1, \"Python\", True, 10.5]\n",
    "list1"
   ]
  },
  {
   "cell_type": "code",
   "execution_count": 19,
   "id": "0655f790",
   "metadata": {},
   "outputs": [
    {
     "data": {
      "text/plain": [
       "list"
      ]
     },
     "execution_count": 19,
     "metadata": {},
     "output_type": "execute_result"
    }
   ],
   "source": [
    "type(list1)"
   ]
  },
  {
   "cell_type": "code",
   "execution_count": 20,
   "id": "255ad9bc",
   "metadata": {},
   "outputs": [
    {
     "data": {
      "text/plain": [
       "4"
      ]
     },
     "execution_count": 20,
     "metadata": {},
     "output_type": "execute_result"
    }
   ],
   "source": [
    "len(list1)"
   ]
  },
  {
   "cell_type": "code",
   "execution_count": 21,
   "id": "56fce216",
   "metadata": {},
   "outputs": [
    {
     "data": {
      "text/plain": [
       "True"
      ]
     },
     "execution_count": 21,
     "metadata": {},
     "output_type": "execute_result"
    }
   ],
   "source": [
    "list1[2]"
   ]
  },
  {
   "cell_type": "code",
   "execution_count": 42,
   "id": "369712dd",
   "metadata": {},
   "outputs": [
    {
     "data": {
      "text/plain": [
       "[3, 5, 'Shahram', 'Python', 334, 5563.88, False]"
      ]
     },
     "execution_count": 42,
     "metadata": {},
     "output_type": "execute_result"
    }
   ],
   "source": [
    "list2=[3,5,\"Shahram\",\"Python\",334,5563.88,False]\n",
    "list2"
   ]
  },
  {
   "cell_type": "code",
   "execution_count": 26,
   "id": "74d0f1a8",
   "metadata": {},
   "outputs": [
    {
     "data": {
      "text/plain": [
       "[1, 'Python', True, 10.5, 3, 5, 'Shahram', 'Python', 334, 5563.88, False]"
      ]
     },
     "execution_count": 26,
     "metadata": {},
     "output_type": "execute_result"
    }
   ],
   "source": [
    "list1+list2"
   ]
  },
  {
   "cell_type": "code",
   "execution_count": 27,
   "id": "d48a31e2",
   "metadata": {},
   "outputs": [
    {
     "data": {
      "text/plain": [
       "[1, 'Python', True, 10.5, 1, 'Python', True, 10.5]"
      ]
     },
     "execution_count": 27,
     "metadata": {},
     "output_type": "execute_result"
    }
   ],
   "source": [
    "list1*2"
   ]
  },
  {
   "cell_type": "code",
   "execution_count": 33,
   "id": "f7a46ecd",
   "metadata": {},
   "outputs": [
    {
     "data": {
      "text/plain": [
       "[3,\n",
       " 5,\n",
       " 'Shahram',\n",
       " 'Python',\n",
       " 334,\n",
       " 5563.88,\n",
       " False,\n",
       " 1,\n",
       " 'Python',\n",
       " True,\n",
       " 10.5,\n",
       " 1,\n",
       " 'Python',\n",
       " True,\n",
       " 10.5]"
      ]
     },
     "execution_count": 33,
     "metadata": {},
     "output_type": "execute_result"
    }
   ],
   "source": [
    "list2+list1*2"
   ]
  },
  {
   "cell_type": "code",
   "execution_count": 52,
   "id": "c63a9417",
   "metadata": {},
   "outputs": [
    {
     "data": {
      "text/plain": [
       "[1, 'Python', True, 10.5]"
      ]
     },
     "execution_count": 52,
     "metadata": {},
     "output_type": "execute_result"
    }
   ],
   "source": [
    "list1"
   ]
  },
  {
   "cell_type": "code",
   "execution_count": 53,
   "id": "12a3839f",
   "metadata": {
    "scrolled": true
   },
   "outputs": [
    {
     "data": {
      "text/plain": [
       "[10.5, True, 'Python', 1]"
      ]
     },
     "execution_count": 53,
     "metadata": {},
     "output_type": "execute_result"
    }
   ],
   "source": [
    "list1.reverse()\n",
    "list1"
   ]
  },
  {
   "cell_type": "code",
   "execution_count": 54,
   "id": "33b88e4c",
   "metadata": {},
   "outputs": [
    {
     "data": {
      "text/plain": [
       "[10.5, True, 'Python', 1, 'Python Chilla Youtube']"
      ]
     },
     "execution_count": 54,
     "metadata": {},
     "output_type": "execute_result"
    }
   ],
   "source": [
    "list1.append(\"Python Chilla Youtube\")\n",
    "list1"
   ]
  },
  {
   "cell_type": "code",
   "execution_count": 55,
   "id": "21991293",
   "metadata": {},
   "outputs": [
    {
     "data": {
      "text/plain": [
       "[10.5, 'Shero', 'Python', 1, 'Python Chilla Youtube']"
      ]
     },
     "execution_count": 55,
     "metadata": {},
     "output_type": "execute_result"
    }
   ],
   "source": [
    "list1[1]=\"Shero\"\n",
    "list1"
   ]
  },
  {
   "cell_type": "code",
   "execution_count": 56,
   "id": "e8240e50",
   "metadata": {},
   "outputs": [
    {
     "data": {
      "text/plain": [
       "[10.5, 'Shahram', 12.5, 'Python', 1, 'Python Chilla Youtube']"
      ]
     },
     "execution_count": 56,
     "metadata": {},
     "output_type": "execute_result"
    }
   ],
   "source": [
    "list1[1:2]=[\"Shahram\", 12.5]\n",
    "list1"
   ]
  },
  {
   "cell_type": "code",
   "execution_count": 58,
   "id": "cf52360f",
   "metadata": {},
   "outputs": [
    {
     "data": {
      "text/plain": [
       "[10.5, 'Shahram', 13, 'Python Chilla Youtube']"
      ]
     },
     "execution_count": 58,
     "metadata": {},
     "output_type": "execute_result"
    }
   ],
   "source": [
    "list1[1:4]=[\"Shahram\", 13]\n",
    "list1"
   ]
  },
  {
   "cell_type": "code",
   "execution_count": 59,
   "id": "01020931",
   "metadata": {},
   "outputs": [
    {
     "data": {
      "text/plain": [
       "[10.5, 'Shahram', 13, 'Python Chilla Youtube']"
      ]
     },
     "execution_count": 59,
     "metadata": {},
     "output_type": "execute_result"
    }
   ],
   "source": [
    "list1"
   ]
  },
  {
   "cell_type": "code",
   "execution_count": 60,
   "id": "1b108e8e",
   "metadata": {},
   "outputs": [
    {
     "data": {
      "text/plain": [
       "[10.5, 'Shahram', 'Shero', 13, 'Python Chilla Youtube']"
      ]
     },
     "execution_count": 60,
     "metadata": {},
     "output_type": "execute_result"
    }
   ],
   "source": [
    "list1.insert(2, \"Shero\")\n",
    "list1"
   ]
  },
  {
   "cell_type": "code",
   "execution_count": 62,
   "id": "370392d6",
   "metadata": {},
   "outputs": [
    {
     "data": {
      "text/plain": [
       "[10.5,\n",
       " 'Shahram',\n",
       " 'Shero',\n",
       " 13,\n",
       " 'Python Chilla Youtube',\n",
       " 13,\n",
       " 25,\n",
       " 67,\n",
       " 5,\n",
       " 77,\n",
       " 876,\n",
       " 223,\n",
       " 22]"
      ]
     },
     "execution_count": 62,
     "metadata": {},
     "output_type": "execute_result"
    }
   ],
   "source": [
    "list1.extend(list3)\n",
    "list1"
   ]
  },
  {
   "cell_type": "code",
   "execution_count": 63,
   "id": "6b7d2c2b",
   "metadata": {},
   "outputs": [
    {
     "data": {
      "text/plain": [
       "2"
      ]
     },
     "execution_count": 63,
     "metadata": {},
     "output_type": "execute_result"
    }
   ],
   "source": [
    "list1.index(\"Shero\")"
   ]
  },
  {
   "cell_type": "code",
   "execution_count": 64,
   "id": "339f326d",
   "metadata": {},
   "outputs": [
    {
     "data": {
      "text/plain": [
       "[22,\n",
       " 223,\n",
       " 876,\n",
       " 77,\n",
       " 5,\n",
       " 67,\n",
       " 25,\n",
       " 13,\n",
       " 'Python Chilla Youtube',\n",
       " 13,\n",
       " 'Shero',\n",
       " 'Shahram',\n",
       " 10.5]"
      ]
     },
     "execution_count": 64,
     "metadata": {},
     "output_type": "execute_result"
    }
   ],
   "source": [
    "list1.reverse()\n",
    "list1"
   ]
  },
  {
   "cell_type": "code",
   "execution_count": 72,
   "id": "c4317b9b",
   "metadata": {},
   "outputs": [
    {
     "data": {
      "text/plain": [
       "[876, 77, 5, 67, 25, 13, 'Python Chilla Youtube', 13, 'Shero', 'Shahram', 10.5]"
      ]
     },
     "execution_count": 72,
     "metadata": {},
     "output_type": "execute_result"
    }
   ],
   "source": [
    "list1"
   ]
  },
  {
   "cell_type": "code",
   "execution_count": 73,
   "id": "2aa2229e",
   "metadata": {},
   "outputs": [
    {
     "data": {
      "text/plain": [
       "[77, 5, 67, 25, 13, 'Python Chilla Youtube', 13, 'Shero', 'Shahram', 10.5]"
      ]
     },
     "execution_count": 73,
     "metadata": {},
     "output_type": "execute_result"
    }
   ],
   "source": [
    "list1.remove(876)\n",
    "list1"
   ]
  },
  {
   "cell_type": "code",
   "execution_count": 75,
   "id": "38ed2c10",
   "metadata": {},
   "outputs": [
    {
     "data": {
      "text/plain": [
       "[5, 25, 67, 77, 'Python Chilla Youtube', 13, 'Shero', 'Shahram', 10.5]"
      ]
     },
     "execution_count": 75,
     "metadata": {},
     "output_type": "execute_result"
    }
   ],
   "source": [
    "list1.pop(1)\n",
    "list1"
   ]
  },
  {
   "cell_type": "code",
   "execution_count": 78,
   "id": "28d9bb95",
   "metadata": {},
   "outputs": [
    {
     "data": {
      "text/plain": [
       "[5, 25, 67, 77, 'Python Chilla Youtube', 13, 'Shero', 'Shahram']"
      ]
     },
     "execution_count": 78,
     "metadata": {},
     "output_type": "execute_result"
    }
   ],
   "source": [
    "list1.pop()\n",
    "list1"
   ]
  },
  {
   "cell_type": "code",
   "execution_count": 79,
   "id": "c4349b73",
   "metadata": {},
   "outputs": [],
   "source": [
    "list1.clear()"
   ]
  },
  {
   "cell_type": "code",
   "execution_count": 80,
   "id": "b6f2345d",
   "metadata": {},
   "outputs": [
    {
     "data": {
      "text/plain": [
       "[]"
      ]
     },
     "execution_count": 80,
     "metadata": {},
     "output_type": "execute_result"
    }
   ],
   "source": [
    "list1"
   ]
  },
  {
   "cell_type": "code",
   "execution_count": 61,
   "id": "f2e31f99",
   "metadata": {},
   "outputs": [
    {
     "data": {
      "text/plain": [
       "[13, 25, 67, 5, 77, 876, 223, 22]"
      ]
     },
     "execution_count": 61,
     "metadata": {},
     "output_type": "execute_result"
    }
   ],
   "source": [
    "list3=[13,25,67,5,77,876,223,22]\n",
    "list3"
   ]
  },
  {
   "cell_type": "code",
   "execution_count": 49,
   "id": "d3ddb4b7",
   "metadata": {},
   "outputs": [
    {
     "data": {
      "text/plain": [
       "8"
      ]
     },
     "execution_count": 49,
     "metadata": {},
     "output_type": "execute_result"
    }
   ],
   "source": [
    "len(list3)"
   ]
  },
  {
   "cell_type": "code",
   "execution_count": 52,
   "id": "79e144dd",
   "metadata": {},
   "outputs": [
    {
     "data": {
      "text/plain": [
       "[5, 13, 22, 25, 67, 77, 223, 876]"
      ]
     },
     "execution_count": 52,
     "metadata": {},
     "output_type": "execute_result"
    }
   ],
   "source": [
    "# Sorting a list\n",
    "list3.sort()\n",
    "list3"
   ]
  },
  {
   "cell_type": "markdown",
   "id": "2b0d7a4b",
   "metadata": {},
   "source": [
    "---"
   ]
  },
  {
   "cell_type": "markdown",
   "id": "686d68bb",
   "metadata": {},
   "source": [
    "### Dictionaries\n",
    "- An unordered collection of elements\n",
    "- Key and Value\n",
    "- Curly braces are used\n",
    "- Values can be changed"
   ]
  },
  {
   "cell_type": "code",
   "execution_count": 83,
   "id": "a0901833",
   "metadata": {},
   "outputs": [
    {
     "data": {
      "text/plain": [
       "{'Samosa': 30, 'Pakora': 60, 'Raita': 20, 'Salad': 10, 'Dahibara': 70}"
      ]
     },
     "execution_count": 83,
     "metadata": {},
     "output_type": "execute_result"
    }
   ],
   "source": [
    "# Food and their prices\n",
    "\n",
    "dic1={\"Samosa\":30, \"Pakora\":60,\"Raita\":20,\"Salad\":10,\"Dahibara\":70}\n",
    "dic1"
   ]
  },
  {
   "cell_type": "code",
   "execution_count": 84,
   "id": "74a71de6",
   "metadata": {},
   "outputs": [
    {
     "data": {
      "text/plain": [
       "dict"
      ]
     },
     "execution_count": 84,
     "metadata": {},
     "output_type": "execute_result"
    }
   ],
   "source": [
    "type(dic1)"
   ]
  },
  {
   "cell_type": "code",
   "execution_count": 55,
   "id": "c8934f8f",
   "metadata": {},
   "outputs": [
    {
     "data": {
      "text/plain": [
       "dict_keys(['Samosa', 'Pakora', 'Raita', 'Salad', 'Dahibara'])"
      ]
     },
     "execution_count": 55,
     "metadata": {},
     "output_type": "execute_result"
    }
   ],
   "source": [
    "# Exract Data\n",
    "dic1.keys()"
   ]
  },
  {
   "cell_type": "code",
   "execution_count": 56,
   "id": "82ea36d8",
   "metadata": {},
   "outputs": [
    {
     "data": {
      "text/plain": [
       "dict_values([30, 60, 20, 10, 70])"
      ]
     },
     "execution_count": 56,
     "metadata": {},
     "output_type": "execute_result"
    }
   ],
   "source": [
    "dic1.values()"
   ]
  },
  {
   "cell_type": "code",
   "execution_count": 85,
   "id": "306cbd43",
   "metadata": {},
   "outputs": [
    {
     "data": {
      "text/plain": [
       "30"
      ]
     },
     "execution_count": 85,
     "metadata": {},
     "output_type": "execute_result"
    }
   ],
   "source": [
    "dic1[\"Samosa\"]"
   ]
  },
  {
   "cell_type": "code",
   "execution_count": 87,
   "id": "60bd2cc7",
   "metadata": {},
   "outputs": [
    {
     "data": {
      "text/plain": [
       "{'Samosa': 30,\n",
       " 'Pakora': 60,\n",
       " 'Raita': 20,\n",
       " 'Salad': 10,\n",
       " 'Dahibara': [70, 100, 120]}"
      ]
     },
     "execution_count": 87,
     "metadata": {},
     "output_type": "execute_result"
    }
   ],
   "source": [
    "dicx={\"Samosa\":30, \"Pakora\":60,\"Raita\":20,\"Salad\":10,\"Dahibara\":[70,100,120]}\n",
    "dicx"
   ]
  },
  {
   "cell_type": "code",
   "execution_count": 60,
   "id": "c3d7b615",
   "metadata": {},
   "outputs": [
    {
     "data": {
      "text/plain": [
       "{'Samosa': 30,\n",
       " 'Pakora': 60,\n",
       " 'Raita': 20,\n",
       " 'Salad': 10,\n",
       " 'Dahibara': 70,\n",
       " 'Chana Chat': 50}"
      ]
     },
     "execution_count": 60,
     "metadata": {},
     "output_type": "execute_result"
    }
   ],
   "source": [
    "dic1[\"Chana Chat\"]=50\n",
    "dic1"
   ]
  },
  {
   "cell_type": "code",
   "execution_count": 62,
   "id": "aa0f3a06",
   "metadata": {},
   "outputs": [
    {
     "data": {
      "text/plain": [
       "{'Samosa': 30,\n",
       " 'Pakora': 60,\n",
       " 'Raita': 20,\n",
       " 'Salad': 15,\n",
       " 'Dahibara': 70,\n",
       " 'Chana Chat': 50}"
      ]
     },
     "execution_count": 62,
     "metadata": {},
     "output_type": "execute_result"
    }
   ],
   "source": [
    "# Update Values\n",
    "dic1[\"Salad\"]=15\n",
    "dic1"
   ]
  },
  {
   "cell_type": "code",
   "execution_count": 63,
   "id": "2db6e2d4",
   "metadata": {},
   "outputs": [
    {
     "data": {
      "text/plain": [
       "{'Dates': 150, 'Fruits': 200, 'Siwaen': 300}"
      ]
     },
     "execution_count": 63,
     "metadata": {},
     "output_type": "execute_result"
    }
   ],
   "source": [
    "dic2= {\"Dates\":150, \"Fruits\":200, \"Siwaen\":300}\n",
    "dic2"
   ]
  },
  {
   "cell_type": "code",
   "execution_count": 64,
   "id": "ae3b81ab",
   "metadata": {},
   "outputs": [
    {
     "ename": "TypeError",
     "evalue": "unsupported operand type(s) for +: 'dict' and 'dict'",
     "output_type": "error",
     "traceback": [
      "\u001b[1;31m---------------------------------------------------------------------------\u001b[0m",
      "\u001b[1;31mTypeError\u001b[0m                                 Traceback (most recent call last)",
      "\u001b[1;32m~\\AppData\\Local\\Temp/ipykernel_5040/4010335996.py\u001b[0m in \u001b[0;36m<module>\u001b[1;34m\u001b[0m\n\u001b[0;32m      1\u001b[0m \u001b[1;31m# Concatinate\u001b[0m\u001b[1;33m\u001b[0m\u001b[1;33m\u001b[0m\u001b[0m\n\u001b[1;32m----> 2\u001b[1;33m \u001b[0mdic1\u001b[0m\u001b[1;33m+\u001b[0m\u001b[0mdic2\u001b[0m\u001b[1;33m\u001b[0m\u001b[1;33m\u001b[0m\u001b[0m\n\u001b[0m",
      "\u001b[1;31mTypeError\u001b[0m: unsupported operand type(s) for +: 'dict' and 'dict'"
     ]
    }
   ],
   "source": [
    "# Concatinate\n",
    "dic1+dic2"
   ]
  },
  {
   "cell_type": "code",
   "execution_count": 92,
   "id": "6169873b",
   "metadata": {},
   "outputs": [
    {
     "ename": "NameError",
     "evalue": "name 'dic2' is not defined",
     "output_type": "error",
     "traceback": [
      "\u001b[1;31m---------------------------------------------------------------------------\u001b[0m",
      "\u001b[1;31mNameError\u001b[0m                                 Traceback (most recent call last)",
      "\u001b[1;32m~\\AppData\\Local\\Temp/ipykernel_7516/1685251309.py\u001b[0m in \u001b[0;36m<module>\u001b[1;34m\u001b[0m\n\u001b[1;32m----> 1\u001b[1;33m \u001b[0mdic1\u001b[0m\u001b[1;33m.\u001b[0m\u001b[0mupdate\u001b[0m\u001b[1;33m(\u001b[0m\u001b[0mdic2\u001b[0m\u001b[1;33m)\u001b[0m\u001b[1;33m\u001b[0m\u001b[1;33m\u001b[0m\u001b[0m\n\u001b[0m\u001b[0;32m      2\u001b[0m \u001b[0mdic1\u001b[0m\u001b[1;33m\u001b[0m\u001b[1;33m\u001b[0m\u001b[0m\n",
      "\u001b[1;31mNameError\u001b[0m: name 'dic2' is not defined"
     ]
    }
   ],
   "source": [
    "dic1.update(dic2)\n",
    "dic1"
   ]
  },
  {
   "cell_type": "code",
   "execution_count": 89,
   "id": "e8c5de4a",
   "metadata": {},
   "outputs": [
    {
     "data": {
      "text/plain": [
       "30"
      ]
     },
     "execution_count": 89,
     "metadata": {},
     "output_type": "execute_result"
    }
   ],
   "source": [
    "dic1.get(\"Samosa\")"
   ]
  },
  {
   "cell_type": "code",
   "execution_count": 90,
   "id": "c5442639",
   "metadata": {},
   "outputs": [
    {
     "data": {
      "text/plain": [
       "dict_items([('Samosa', 30), ('Pakora', 60), ('Raita', 20), ('Salad', 10), ('Dahibara', 70)])"
      ]
     },
     "execution_count": 90,
     "metadata": {},
     "output_type": "execute_result"
    }
   ],
   "source": [
    "dic1.items()"
   ]
  },
  {
   "cell_type": "code",
   "execution_count": 93,
   "id": "439a50c7",
   "metadata": {},
   "outputs": [
    {
     "data": {
      "text/plain": [
       "10"
      ]
     },
     "execution_count": 93,
     "metadata": {},
     "output_type": "execute_result"
    }
   ],
   "source": [
    "dic1.pop(\"Salad\")"
   ]
  },
  {
   "cell_type": "code",
   "execution_count": 94,
   "id": "a46955b3",
   "metadata": {},
   "outputs": [
    {
     "data": {
      "text/plain": [
       "{'Samosa': 30, 'Pakora': 60, 'Raita': 20, 'Dahibara': 70}"
      ]
     },
     "execution_count": 94,
     "metadata": {},
     "output_type": "execute_result"
    }
   ],
   "source": [
    "dic1"
   ]
  },
  {
   "cell_type": "code",
   "execution_count": 95,
   "id": "89f1bab7",
   "metadata": {},
   "outputs": [
    {
     "data": {
      "text/plain": [
       "('Dahibara', 70)"
      ]
     },
     "execution_count": 95,
     "metadata": {},
     "output_type": "execute_result"
    }
   ],
   "source": [
    "dic1.popitem()"
   ]
  },
  {
   "cell_type": "code",
   "execution_count": 96,
   "id": "65c27ea2",
   "metadata": {},
   "outputs": [
    {
     "data": {
      "text/plain": [
       "{'Samosa': 30, 'Pakora': 60, 'Raita': 20}"
      ]
     },
     "execution_count": 96,
     "metadata": {},
     "output_type": "execute_result"
    }
   ],
   "source": [
    "dic1"
   ]
  },
  {
   "cell_type": "code",
   "execution_count": 99,
   "id": "6b33f247",
   "metadata": {},
   "outputs": [
    {
     "data": {
      "text/plain": [
       "30"
      ]
     },
     "execution_count": 99,
     "metadata": {},
     "output_type": "execute_result"
    }
   ],
   "source": [
    "dic1.get(\"Samosa\")"
   ]
  },
  {
   "cell_type": "code",
   "execution_count": 100,
   "id": "0fd576eb",
   "metadata": {},
   "outputs": [
    {
     "data": {
      "text/plain": [
       "{'Samosa': 30, 'Pakora': 60, 'Raita': 20}"
      ]
     },
     "execution_count": 100,
     "metadata": {},
     "output_type": "execute_result"
    }
   ],
   "source": [
    "dic5=dic1.copy()\n",
    "dic5"
   ]
  },
  {
   "cell_type": "code",
   "execution_count": 107,
   "id": "2f505f20",
   "metadata": {
    "scrolled": true
   },
   "outputs": [
    {
     "data": {
      "text/plain": [
       "{'S': 30, 'a': 30, 'm': 30, 'o': 30, 's': 30}"
      ]
     },
     "execution_count": 107,
     "metadata": {},
     "output_type": "execute_result"
    }
   ],
   "source": [
    "dic1.fromkeys(\"Samosa\", 30)"
   ]
  },
  {
   "cell_type": "code",
   "execution_count": 109,
   "id": "a5b4080b",
   "metadata": {},
   "outputs": [
    {
     "data": {
      "text/plain": [
       "30"
      ]
     },
     "execution_count": 109,
     "metadata": {},
     "output_type": "execute_result"
    }
   ],
   "source": [
    "dic1.setdefault(\"Samosa\")"
   ]
  },
  {
   "cell_type": "markdown",
   "id": "88a426e3",
   "metadata": {},
   "source": [
    "---"
   ]
  },
  {
   "cell_type": "markdown",
   "id": "ef413228",
   "metadata": {},
   "source": [
    "### Sets\n",
    "- Unordered and unindex collection of set\n",
    "- Curley {} braces are used\n",
    "- No duplictaes allowed"
   ]
  },
  {
   "cell_type": "code",
   "execution_count": 119,
   "id": "f04e7294",
   "metadata": {},
   "outputs": [
    {
     "data": {
      "text/plain": [
       "{1, 2, 333, 35.4, 5, 67, False, 'Layyah', 'Python', 'Shahram'}"
      ]
     },
     "execution_count": 119,
     "metadata": {},
     "output_type": "execute_result"
    }
   ],
   "source": [
    "s1={1,2,35.4,333,5,67,\"Shahram\",\"Python\",\"Layyah\", False}\n",
    "s1"
   ]
  },
  {
   "cell_type": "code",
   "execution_count": 81,
   "id": "c6ad9330",
   "metadata": {},
   "outputs": [
    {
     "data": {
      "text/plain": [
       "{1, 2, 333, 35.4, 5, 67, False, 'Layyah', 'Maliha', 'Python', 'Shahram'}"
      ]
     },
     "execution_count": 81,
     "metadata": {},
     "output_type": "execute_result"
    }
   ],
   "source": [
    "s1.add(\"Maliha\")\n",
    "s1"
   ]
  },
  {
   "cell_type": "code",
   "execution_count": 82,
   "id": "ae22623e",
   "metadata": {},
   "outputs": [
    {
     "data": {
      "text/plain": [
       "{1, 2, 333, 35.4, 5, 67, 'Layyah', 'Maliha', 'Python', 'Shahram'}"
      ]
     },
     "execution_count": 82,
     "metadata": {},
     "output_type": "execute_result"
    }
   ],
   "source": [
    "s1.remove(False)\n",
    "s1"
   ]
  },
  {
   "cell_type": "code",
   "execution_count": 111,
   "id": "fbc142d1",
   "metadata": {},
   "outputs": [
    {
     "data": {
      "text/plain": [
       "{1, 2, 333, 35.4, 5, 67, False, 'Layyah', 'Python', 'Shahram'}"
      ]
     },
     "execution_count": 111,
     "metadata": {},
     "output_type": "execute_result"
    }
   ],
   "source": [
    "s2=s1.copy()\n",
    "s2"
   ]
  },
  {
   "cell_type": "code",
   "execution_count": 115,
   "id": "1b9d6629",
   "metadata": {},
   "outputs": [
    {
     "data": {
      "text/plain": [
       "{1, 2, 333, 35.4, 5, 67, False, 'Layyah', 'Python', 'Shahram'}"
      ]
     },
     "execution_count": 115,
     "metadata": {},
     "output_type": "execute_result"
    }
   ],
   "source": [
    "s2"
   ]
  },
  {
   "cell_type": "code",
   "execution_count": 118,
   "id": "4150bf19",
   "metadata": {},
   "outputs": [
    {
     "name": "stdout",
     "output_type": "stream",
     "text": [
      "cherry\n",
      "bana\n",
      "apple\n"
     ]
    }
   ],
   "source": [
    "thisset = {\"apple\", \"bana\", \"cherry\"}\n",
    "\n",
    "for y in thisset:\n",
    "  print(y)"
   ]
  },
  {
   "cell_type": "code",
   "execution_count": 120,
   "id": "2e83b3d5",
   "metadata": {},
   "outputs": [
    {
     "data": {
      "text/plain": [
       "{2, 3, 'Nonno'}"
      ]
     },
     "execution_count": 120,
     "metadata": {},
     "output_type": "execute_result"
    }
   ],
   "source": [
    "s3={2,\"Nonno\", 3}\n",
    "s3"
   ]
  },
  {
   "cell_type": "code",
   "execution_count": 126,
   "id": "cc0654f5",
   "metadata": {},
   "outputs": [
    {
     "data": {
      "text/plain": [
       "{1, 2, 3, 35.4, 5, 67, 'Layyah', 'Nonno', 'Python', 'Shahram'}"
      ]
     },
     "execution_count": 126,
     "metadata": {},
     "output_type": "execute_result"
    }
   ],
   "source": [
    "s1.update(s3)\n",
    "s1"
   ]
  },
  {
   "cell_type": "code",
   "execution_count": 124,
   "id": "038433f3",
   "metadata": {},
   "outputs": [
    {
     "data": {
      "text/plain": [
       "{1, 2, 3, 35.4, 5, 67, False, 'Layyah', 'Nonno', 'Python', 'Shahram'}"
      ]
     },
     "execution_count": 124,
     "metadata": {},
     "output_type": "execute_result"
    }
   ],
   "source": [
    "s1.discard(333)\n",
    "s1"
   ]
  },
  {
   "cell_type": "code",
   "execution_count": 125,
   "id": "ec2bad69",
   "metadata": {},
   "outputs": [
    {
     "data": {
      "text/plain": [
       "{1, 2, 3, 35.4, 5, 67, 'Layyah', 'Nonno', 'Python', 'Shahram'}"
      ]
     },
     "execution_count": 125,
     "metadata": {},
     "output_type": "execute_result"
    }
   ],
   "source": [
    "s1.discard(False)\n",
    "s1"
   ]
  },
  {
   "cell_type": "code",
   "execution_count": 128,
   "id": "83cbfe3c",
   "metadata": {},
   "outputs": [
    {
     "data": {
      "text/plain": [
       "{1, 2, 3, 35.4, 5, 67, 'Layyah', 'Nonno', 'Shahram'}"
      ]
     },
     "execution_count": 128,
     "metadata": {},
     "output_type": "execute_result"
    }
   ],
   "source": [
    "s1.remove(\"Python\")\n",
    "s1"
   ]
  },
  {
   "cell_type": "code",
   "execution_count": 129,
   "id": "5e598016",
   "metadata": {},
   "outputs": [
    {
     "data": {
      "text/plain": [
       "{2, 3, 35.4, 5, 67, 'Layyah', 'Nonno', 'Shahram'}"
      ]
     },
     "execution_count": 129,
     "metadata": {},
     "output_type": "execute_result"
    }
   ],
   "source": [
    "s1.pop()\n",
    "s1"
   ]
  },
  {
   "cell_type": "code",
   "execution_count": 132,
   "id": "a48fafbd",
   "metadata": {},
   "outputs": [
    {
     "data": {
      "text/plain": [
       "{3, 35.4, 5, 67, 'Layyah', 'Shahram'}"
      ]
     },
     "execution_count": 132,
     "metadata": {},
     "output_type": "execute_result"
    }
   ],
   "source": [
    "s1.remove(\"Nonno\")\n",
    "s1.remove(2)\n",
    "s1"
   ]
  },
  {
   "cell_type": "code",
   "execution_count": 131,
   "id": "2aa52932",
   "metadata": {},
   "outputs": [
    {
     "data": {
      "text/plain": [
       "{2, 3, 'Nonno'}"
      ]
     },
     "execution_count": 131,
     "metadata": {},
     "output_type": "execute_result"
    }
   ],
   "source": [
    "s3"
   ]
  },
  {
   "cell_type": "code",
   "execution_count": 134,
   "id": "495fd470",
   "metadata": {},
   "outputs": [
    {
     "data": {
      "text/plain": [
       "{2, 3, 35.4, 5, 67, 'Layyah', 'Nonno', 'Shahram'}"
      ]
     },
     "execution_count": 134,
     "metadata": {},
     "output_type": "execute_result"
    }
   ],
   "source": [
    "s4=s1.union(s3)\n",
    "s4"
   ]
  },
  {
   "cell_type": "code",
   "execution_count": 135,
   "id": "b562a0f6",
   "metadata": {},
   "outputs": [
    {
     "data": {
      "text/plain": [
       "{3, 35.4, 5, 67, 'Layyah', 'Shahram'}"
      ]
     },
     "execution_count": 135,
     "metadata": {},
     "output_type": "execute_result"
    }
   ],
   "source": [
    "s4.intersection_update(s1)\n",
    "s4"
   ]
  },
  {
   "cell_type": "code",
   "execution_count": 136,
   "id": "8076d150",
   "metadata": {},
   "outputs": [
    {
     "data": {
      "text/plain": [
       "{1, 2, 3, 333, 35.4, 5, 67, False, 'Layyah', 'Python', 'Shahram'}"
      ]
     },
     "execution_count": 136,
     "metadata": {},
     "output_type": "execute_result"
    }
   ],
   "source": [
    "s5=s1.union(s2)\n",
    "s5"
   ]
  },
  {
   "cell_type": "code",
   "execution_count": 137,
   "id": "47a1f896",
   "metadata": {},
   "outputs": [
    {
     "data": {
      "text/plain": [
       "{3, 35.4, 5, 67, 'Layyah', 'Shahram'}"
      ]
     },
     "execution_count": 137,
     "metadata": {},
     "output_type": "execute_result"
    }
   ],
   "source": [
    "s6=s1.intersection(s5)\n",
    "s6"
   ]
  },
  {
   "cell_type": "code",
   "execution_count": 138,
   "id": "baa0af63",
   "metadata": {},
   "outputs": [
    {
     "data": {
      "text/plain": [
       "{1, 2, 333, False, 'Python'}"
      ]
     },
     "execution_count": 138,
     "metadata": {},
     "output_type": "execute_result"
    }
   ],
   "source": [
    "s5.symmetric_difference_update(s6)\n",
    "s5"
   ]
  },
  {
   "cell_type": "code",
   "execution_count": 140,
   "id": "1d07ee71",
   "metadata": {},
   "outputs": [
    {
     "data": {
      "text/plain": [
       "{1, 2, 3, 333, 35.4, 5, 67, False, 'Layyah', 'Python', 'Shahram'}"
      ]
     },
     "execution_count": 140,
     "metadata": {},
     "output_type": "execute_result"
    }
   ],
   "source": [
    "s7=s5.symmetric_difference(s6)\n",
    "s7"
   ]
  },
  {
   "cell_type": "code",
   "execution_count": 141,
   "id": "cc0a3b23",
   "metadata": {},
   "outputs": [
    {
     "data": {
      "text/plain": [
       "set()"
      ]
     },
     "execution_count": 141,
     "metadata": {},
     "output_type": "execute_result"
    }
   ],
   "source": [
    "s7.clear()\n",
    "s7"
   ]
  },
  {
   "cell_type": "code",
   "execution_count": 142,
   "id": "c04db69b",
   "metadata": {},
   "outputs": [
    {
     "data": {
      "text/plain": [
       "False"
      ]
     },
     "execution_count": 142,
     "metadata": {},
     "output_type": "execute_result"
    }
   ],
   "source": [
    "s1.isdisjoint(s2)"
   ]
  },
  {
   "cell_type": "code",
   "execution_count": 143,
   "id": "9ddb09dc",
   "metadata": {},
   "outputs": [
    {
     "data": {
      "text/plain": [
       "True"
      ]
     },
     "execution_count": 143,
     "metadata": {},
     "output_type": "execute_result"
    }
   ],
   "source": [
    "s5.isdisjoint(s6)"
   ]
  },
  {
   "cell_type": "code",
   "execution_count": 144,
   "id": "db8194e6",
   "metadata": {},
   "outputs": [
    {
     "data": {
      "text/plain": [
       "True"
      ]
     },
     "execution_count": 144,
     "metadata": {},
     "output_type": "execute_result"
    }
   ],
   "source": [
    "s7.issubset(s6)"
   ]
  },
  {
   "cell_type": "code",
   "execution_count": 145,
   "id": "4f07bb99",
   "metadata": {},
   "outputs": [
    {
     "data": {
      "text/plain": [
       "True"
      ]
     },
     "execution_count": 145,
     "metadata": {},
     "output_type": "execute_result"
    }
   ],
   "source": [
    "s7.issubset(s5)"
   ]
  },
  {
   "cell_type": "code",
   "execution_count": null,
   "id": "d1b04d17",
   "metadata": {},
   "outputs": [],
   "source": []
  },
  {
   "cell_type": "code",
   "execution_count": null,
   "id": "d40ec353",
   "metadata": {},
   "outputs": [],
   "source": []
  },
  {
   "cell_type": "code",
   "execution_count": null,
   "id": "9a2d2d2f",
   "metadata": {},
   "outputs": [],
   "source": []
  },
  {
   "cell_type": "code",
   "execution_count": null,
   "id": "ef847047",
   "metadata": {},
   "outputs": [],
   "source": []
  },
  {
   "cell_type": "code",
   "execution_count": null,
   "id": "fdc5d6f2",
   "metadata": {},
   "outputs": [],
   "source": []
  }
 ],
 "metadata": {
  "kernelspec": {
   "display_name": "Python 3 (ipykernel)",
   "language": "python",
   "name": "python3"
  },
  "language_info": {
   "codemirror_mode": {
    "name": "ipython",
    "version": 3
   },
   "file_extension": ".py",
   "mimetype": "text/x-python",
   "name": "python",
   "nbconvert_exporter": "python",
   "pygments_lexer": "ipython3",
   "version": "3.9.7"
  }
 },
 "nbformat": 4,
 "nbformat_minor": 5
}
